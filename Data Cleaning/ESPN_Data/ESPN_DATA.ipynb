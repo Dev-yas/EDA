{
  "cells": [
    {
      "cell_type": "code",
      "execution_count": 1,
      "metadata": {
        "id": "6JInHYWgZoJt"
      },
      "outputs": [],
      "source": [
        "import numpy as np\n",
        "import pandas as pd"
      ]
    },
    {
      "cell_type": "code",
      "execution_count": 2,
      "metadata": {
        "id": "KlxggVKBfmSn"
      },
      "outputs": [],
      "source": [
        "df = pd.read_csv('ESPNData.csv')"
      ]
    },
    {
      "cell_type": "code",
      "execution_count": 3,
      "metadata": {
        "id": "OOj-QTFegswy"
      },
      "outputs": [],
      "source": [
        "df.rename(columns={'NO':'Not_Out'},inplace=True)\n",
        "df.rename(columns={'HS':'Highest Score'},inplace=True)\n",
        "df.rename(columns={'Ave':'Average'},inplace=True)\n",
        "df.rename(columns={'BF':'Balls_Faced'},inplace=True)\n",
        "df.rename(columns={'SR':'Strike_Rate'},inplace=True)\n",
        "df.rename(columns={'Mat':'Matches'},inplace=True)\n"
      ]
    },
    {
      "cell_type": "code",
      "execution_count": 4,
      "metadata": {
        "colab": {
          "base_uri": "https://localhost:8080/",
          "height": 808
        },
        "id": "D2C0het6hwWv",
        "outputId": "2ac43c30-15fe-454b-f905-93d3b50278f3"
      },
      "outputs": [
        {
          "data": {
            "text/html": [
              "<div>\n",
              "<style scoped>\n",
              "    .dataframe tbody tr th:only-of-type {\n",
              "        vertical-align: middle;\n",
              "    }\n",
              "\n",
              "    .dataframe tbody tr th {\n",
              "        vertical-align: top;\n",
              "    }\n",
              "\n",
              "    .dataframe thead th {\n",
              "        text-align: right;\n",
              "    }\n",
              "</style>\n",
              "<table border=\"1\" class=\"dataframe\">\n",
              "  <thead>\n",
              "    <tr style=\"text-align: right;\">\n",
              "      <th></th>\n",
              "      <th>Player</th>\n",
              "      <th>Span</th>\n",
              "      <th>Matches</th>\n",
              "      <th>Inns</th>\n",
              "      <th>Not_Out</th>\n",
              "      <th>Runs</th>\n",
              "      <th>Highest Score</th>\n",
              "      <th>Average</th>\n",
              "      <th>Balls_Faced</th>\n",
              "      <th>Strike_Rate</th>\n",
              "      <th>100</th>\n",
              "      <th>50</th>\n",
              "      <th>0</th>\n",
              "      <th>4s</th>\n",
              "      <th>6s</th>\n",
              "    </tr>\n",
              "  </thead>\n",
              "  <tbody>\n",
              "    <tr>\n",
              "      <th>0</th>\n",
              "      <td>DG Bradman (AUS)</td>\n",
              "      <td>1928-1948</td>\n",
              "      <td>52</td>\n",
              "      <td>80</td>\n",
              "      <td>10</td>\n",
              "      <td>6996</td>\n",
              "      <td>334</td>\n",
              "      <td>99.94</td>\n",
              "      <td>9800+</td>\n",
              "      <td>58.60</td>\n",
              "      <td>29</td>\n",
              "      <td>13</td>\n",
              "      <td>7</td>\n",
              "      <td>626</td>\n",
              "      <td>6</td>\n",
              "    </tr>\n",
              "    <tr>\n",
              "      <th>1</th>\n",
              "      <td>YBK Jaiswal (IND)</td>\n",
              "      <td>2023-2024</td>\n",
              "      <td>11</td>\n",
              "      <td>20</td>\n",
              "      <td>1</td>\n",
              "      <td>1217</td>\n",
              "      <td>214*</td>\n",
              "      <td>64.05</td>\n",
              "      <td>1698</td>\n",
              "      <td>71.67</td>\n",
              "      <td>3</td>\n",
              "      <td>7</td>\n",
              "      <td>1</td>\n",
              "      <td>139</td>\n",
              "      <td>32</td>\n",
              "    </tr>\n",
              "    <tr>\n",
              "      <th>2</th>\n",
              "      <td>AC Voges (AUS)</td>\n",
              "      <td>2015-2016</td>\n",
              "      <td>20</td>\n",
              "      <td>31</td>\n",
              "      <td>7</td>\n",
              "      <td>1485</td>\n",
              "      <td>269*</td>\n",
              "      <td>61.87</td>\n",
              "      <td>2667</td>\n",
              "      <td>55.68</td>\n",
              "      <td>5</td>\n",
              "      <td>4</td>\n",
              "      <td>2</td>\n",
              "      <td>186</td>\n",
              "      <td>5</td>\n",
              "    </tr>\n",
              "    <tr>\n",
              "      <th>3</th>\n",
              "      <td>RG Pollock (SA)</td>\n",
              "      <td>1963-1970</td>\n",
              "      <td>23</td>\n",
              "      <td>41</td>\n",
              "      <td>4</td>\n",
              "      <td>2256</td>\n",
              "      <td>274</td>\n",
              "      <td>60.97</td>\n",
              "      <td>1707+</td>\n",
              "      <td>54.48</td>\n",
              "      <td>7</td>\n",
              "      <td>11</td>\n",
              "      <td>1</td>\n",
              "      <td>246</td>\n",
              "      <td>11</td>\n",
              "    </tr>\n",
              "    <tr>\n",
              "      <th>4</th>\n",
              "      <td>GA Headley (WI)</td>\n",
              "      <td>1930-1954</td>\n",
              "      <td>22</td>\n",
              "      <td>40</td>\n",
              "      <td>4</td>\n",
              "      <td>2190</td>\n",
              "      <td>270*</td>\n",
              "      <td>60.83</td>\n",
              "      <td>416+</td>\n",
              "      <td>56.00</td>\n",
              "      <td>10</td>\n",
              "      <td>5</td>\n",
              "      <td>2</td>\n",
              "      <td>104</td>\n",
              "      <td>1</td>\n",
              "    </tr>\n",
              "    <tr>\n",
              "      <th>...</th>\n",
              "      <td>...</td>\n",
              "      <td>...</td>\n",
              "      <td>...</td>\n",
              "      <td>...</td>\n",
              "      <td>...</td>\n",
              "      <td>...</td>\n",
              "      <td>...</td>\n",
              "      <td>...</td>\n",
              "      <td>...</td>\n",
              "      <td>...</td>\n",
              "      <td>...</td>\n",
              "      <td>...</td>\n",
              "      <td>...</td>\n",
              "      <td>...</td>\n",
              "      <td>...</td>\n",
              "    </tr>\n",
              "    <tr>\n",
              "      <th>58</th>\n",
              "      <td>KD Walters (AUS)</td>\n",
              "      <td>1965-1981</td>\n",
              "      <td>74</td>\n",
              "      <td>125</td>\n",
              "      <td>14</td>\n",
              "      <td>5357</td>\n",
              "      <td>250</td>\n",
              "      <td>48.26</td>\n",
              "      <td>8662+</td>\n",
              "      <td>49.16</td>\n",
              "      <td>15</td>\n",
              "      <td>33</td>\n",
              "      <td>4</td>\n",
              "      <td>525</td>\n",
              "      <td>23</td>\n",
              "    </tr>\n",
              "    <tr>\n",
              "      <th>59</th>\n",
              "      <td>GC Smith (ICC/SA)</td>\n",
              "      <td>2002-2014</td>\n",
              "      <td>117</td>\n",
              "      <td>205</td>\n",
              "      <td>13</td>\n",
              "      <td>9265</td>\n",
              "      <td>277</td>\n",
              "      <td>48.25</td>\n",
              "      <td>15525</td>\n",
              "      <td>59.67</td>\n",
              "      <td>27</td>\n",
              "      <td>38</td>\n",
              "      <td>11</td>\n",
              "      <td>1165</td>\n",
              "      <td>24</td>\n",
              "    </tr>\n",
              "    <tr>\n",
              "      <th>60</th>\n",
              "      <td>WH Ponsford (AUS)</td>\n",
              "      <td>1924-1934</td>\n",
              "      <td>29</td>\n",
              "      <td>48</td>\n",
              "      <td>4</td>\n",
              "      <td>2122</td>\n",
              "      <td>266</td>\n",
              "      <td>48.22</td>\n",
              "      <td>3118+</td>\n",
              "      <td>44.77</td>\n",
              "      <td>7</td>\n",
              "      <td>6</td>\n",
              "      <td>1</td>\n",
              "      <td>119</td>\n",
              "      <td>0</td>\n",
              "    </tr>\n",
              "    <tr>\n",
              "      <th>61</th>\n",
              "      <td>SJ McCabe (AUS)</td>\n",
              "      <td>1930-1938</td>\n",
              "      <td>39</td>\n",
              "      <td>62</td>\n",
              "      <td>5</td>\n",
              "      <td>2748</td>\n",
              "      <td>232</td>\n",
              "      <td>48.21</td>\n",
              "      <td>3217+</td>\n",
              "      <td>60.02</td>\n",
              "      <td>6</td>\n",
              "      <td>13</td>\n",
              "      <td>4</td>\n",
              "      <td>241</td>\n",
              "      <td>5</td>\n",
              "    </tr>\n",
              "    <tr>\n",
              "      <th>62</th>\n",
              "      <td>DR Jardine (ENG)</td>\n",
              "      <td>1928-1934</td>\n",
              "      <td>22</td>\n",
              "      <td>33</td>\n",
              "      <td>6</td>\n",
              "      <td>1296</td>\n",
              "      <td>127</td>\n",
              "      <td>48.00</td>\n",
              "      <td>2110+</td>\n",
              "      <td>25.59</td>\n",
              "      <td>1</td>\n",
              "      <td>10</td>\n",
              "      <td>2</td>\n",
              "      <td>53</td>\n",
              "      <td>0</td>\n",
              "    </tr>\n",
              "  </tbody>\n",
              "</table>\n",
              "<p>63 rows × 15 columns</p>\n",
              "</div>"
            ],
            "text/plain": [
              "               Player       Span  Matches  Inns  Not_Out  Runs Highest Score  \\\n",
              "0    DG Bradman (AUS)  1928-1948       52    80       10  6996           334   \n",
              "1   YBK Jaiswal (IND)  2023-2024       11    20        1  1217          214*   \n",
              "2      AC Voges (AUS)  2015-2016       20    31        7  1485          269*   \n",
              "3     RG Pollock (SA)  1963-1970       23    41        4  2256           274   \n",
              "4     GA Headley (WI)  1930-1954       22    40        4  2190          270*   \n",
              "..                ...        ...      ...   ...      ...   ...           ...   \n",
              "58   KD Walters (AUS)  1965-1981       74   125       14  5357           250   \n",
              "59  GC Smith (ICC/SA)  2002-2014      117   205       13  9265           277   \n",
              "60  WH Ponsford (AUS)  1924-1934       29    48        4  2122           266   \n",
              "61    SJ McCabe (AUS)  1930-1938       39    62        5  2748           232   \n",
              "62   DR Jardine (ENG)  1928-1934       22    33        6  1296           127   \n",
              "\n",
              "    Average Balls_Faced  Strike_Rate  100  50   0    4s  6s  \n",
              "0     99.94       9800+        58.60   29  13   7   626   6  \n",
              "1     64.05        1698        71.67    3   7   1   139  32  \n",
              "2     61.87        2667        55.68    5   4   2   186   5  \n",
              "3     60.97       1707+        54.48    7  11   1   246  11  \n",
              "4     60.83        416+        56.00   10   5   2   104   1  \n",
              "..      ...         ...          ...  ...  ..  ..   ...  ..  \n",
              "58    48.26       8662+        49.16   15  33   4   525  23  \n",
              "59    48.25       15525        59.67   27  38  11  1165  24  \n",
              "60    48.22       3118+        44.77    7   6   1   119   0  \n",
              "61    48.21       3217+        60.02    6  13   4   241   5  \n",
              "62    48.00       2110+        25.59    1  10   2    53   0  \n",
              "\n",
              "[63 rows x 15 columns]"
            ]
          },
          "execution_count": 4,
          "metadata": {},
          "output_type": "execute_result"
        }
      ],
      "source": [
        "df"
      ]
    },
    {
      "cell_type": "code",
      "execution_count": 5,
      "metadata": {
        "colab": {
          "base_uri": "https://localhost:8080/",
          "height": 554
        },
        "id": "66PLP3BRhzuH",
        "outputId": "8fbeb790-d020-4001-ffd1-8f2d9f572060"
      },
      "outputs": [
        {
          "data": {
            "text/plain": [
              "Player           False\n",
              "Span             False\n",
              "Matches          False\n",
              "Inns             False\n",
              "Not_Out          False\n",
              "Runs             False\n",
              "Highest Score    False\n",
              "Average          False\n",
              "Balls_Faced       True\n",
              "Strike_Rate      False\n",
              "100              False\n",
              "50               False\n",
              "0                False\n",
              "4s               False\n",
              "6s               False\n",
              "dtype: bool"
            ]
          },
          "execution_count": 5,
          "metadata": {},
          "output_type": "execute_result"
        }
      ],
      "source": [
        "df.isnull().any()"
      ]
    },
    {
      "cell_type": "code",
      "execution_count": 6,
      "metadata": {
        "colab": {
          "base_uri": "https://localhost:8080/",
          "height": 285
        },
        "id": "XcHOtiIkh6v4",
        "outputId": "1a45cecd-e5b7-4fc9-d35e-c2c744ea6160"
      },
      "outputs": [
        {
          "data": {
            "text/html": [
              "<div>\n",
              "<style scoped>\n",
              "    .dataframe tbody tr th:only-of-type {\n",
              "        vertical-align: middle;\n",
              "    }\n",
              "\n",
              "    .dataframe tbody tr th {\n",
              "        vertical-align: top;\n",
              "    }\n",
              "\n",
              "    .dataframe thead th {\n",
              "        text-align: right;\n",
              "    }\n",
              "</style>\n",
              "<table border=\"1\" class=\"dataframe\">\n",
              "  <thead>\n",
              "    <tr style=\"text-align: right;\">\n",
              "      <th></th>\n",
              "      <th>Player</th>\n",
              "      <th>Span</th>\n",
              "      <th>Matches</th>\n",
              "      <th>Inns</th>\n",
              "      <th>Not_Out</th>\n",
              "      <th>Runs</th>\n",
              "      <th>Highest Score</th>\n",
              "      <th>Average</th>\n",
              "      <th>Balls_Faced</th>\n",
              "      <th>Strike_Rate</th>\n",
              "      <th>100</th>\n",
              "      <th>50</th>\n",
              "      <th>0</th>\n",
              "      <th>4s</th>\n",
              "      <th>6s</th>\n",
              "    </tr>\n",
              "  </thead>\n",
              "  <tbody>\n",
              "    <tr>\n",
              "      <th>8</th>\n",
              "      <td>ED Weekes (WI)</td>\n",
              "      <td>1948-1958</td>\n",
              "      <td>48</td>\n",
              "      <td>81</td>\n",
              "      <td>5</td>\n",
              "      <td>4455</td>\n",
              "      <td>207</td>\n",
              "      <td>58.61</td>\n",
              "      <td>NaN</td>\n",
              "      <td>0.0</td>\n",
              "      <td>15</td>\n",
              "      <td>19</td>\n",
              "      <td>6</td>\n",
              "      <td>258</td>\n",
              "      <td>2</td>\n",
              "    </tr>\n",
              "    <tr>\n",
              "      <th>14</th>\n",
              "      <td>CL Walcott (WI)</td>\n",
              "      <td>1948-1960</td>\n",
              "      <td>44</td>\n",
              "      <td>74</td>\n",
              "      <td>7</td>\n",
              "      <td>3798</td>\n",
              "      <td>220</td>\n",
              "      <td>56.68</td>\n",
              "      <td>NaN</td>\n",
              "      <td>0.0</td>\n",
              "      <td>15</td>\n",
              "      <td>14</td>\n",
              "      <td>1</td>\n",
              "      <td>107</td>\n",
              "      <td>11</td>\n",
              "    </tr>\n",
              "    <tr>\n",
              "      <th>55</th>\n",
              "      <td>Hon.FS Jackson (ENG)</td>\n",
              "      <td>1893-1905</td>\n",
              "      <td>20</td>\n",
              "      <td>33</td>\n",
              "      <td>4</td>\n",
              "      <td>1415</td>\n",
              "      <td>144*</td>\n",
              "      <td>48.79</td>\n",
              "      <td>NaN</td>\n",
              "      <td>0.0</td>\n",
              "      <td>5</td>\n",
              "      <td>6</td>\n",
              "      <td>3</td>\n",
              "      <td>51</td>\n",
              "      <td>0</td>\n",
              "    </tr>\n",
              "  </tbody>\n",
              "</table>\n",
              "</div>"
            ],
            "text/plain": [
              "                  Player       Span  Matches  Inns  Not_Out  Runs  \\\n",
              "8         ED Weekes (WI)  1948-1958       48    81        5  4455   \n",
              "14       CL Walcott (WI)  1948-1960       44    74        7  3798   \n",
              "55  Hon.FS Jackson (ENG)  1893-1905       20    33        4  1415   \n",
              "\n",
              "   Highest Score  Average Balls_Faced  Strike_Rate  100  50  0   4s  6s  \n",
              "8            207    58.61         NaN          0.0   15  19  6  258   2  \n",
              "14           220    56.68         NaN          0.0   15  14  1  107  11  \n",
              "55          144*    48.79         NaN          0.0    5   6  3   51   0  "
            ]
          },
          "execution_count": 6,
          "metadata": {},
          "output_type": "execute_result"
        }
      ],
      "source": [
        "df[df['Balls_Faced'].isna()==1]"
      ]
    },
    {
      "cell_type": "code",
      "execution_count": 7,
      "metadata": {
        "id": "B-tT_W6fiI3C"
      },
      "outputs": [],
      "source": [
        "df['Balls_Faced'] = df['Balls_Faced'].fillna(0)"
      ]
    },
    {
      "cell_type": "code",
      "execution_count": 8,
      "metadata": {
        "colab": {
          "base_uri": "https://localhost:8080/",
          "height": 458
        },
        "id": "aGvxbJaPidyU",
        "outputId": "3db8926b-3927-4d26-f3ce-526f110027e2"
      },
      "outputs": [
        {
          "data": {
            "text/plain": [
              "0     False\n",
              "1     False\n",
              "2     False\n",
              "3     False\n",
              "4     False\n",
              "      ...  \n",
              "58    False\n",
              "59    False\n",
              "60    False\n",
              "61    False\n",
              "62    False\n",
              "Length: 63, dtype: bool"
            ]
          },
          "execution_count": 8,
          "metadata": {},
          "output_type": "execute_result"
        }
      ],
      "source": [
        "df.duplicated()"
      ]
    },
    {
      "cell_type": "code",
      "execution_count": 9,
      "metadata": {
        "colab": {
          "base_uri": "https://localhost:8080/",
          "height": 86
        },
        "id": "lvU_LWl8igu8",
        "outputId": "90e954f4-4de0-4443-fb7d-7d08a4973fb1"
      },
      "outputs": [
        {
          "data": {
            "text/html": [
              "<div>\n",
              "<style scoped>\n",
              "    .dataframe tbody tr th:only-of-type {\n",
              "        vertical-align: middle;\n",
              "    }\n",
              "\n",
              "    .dataframe tbody tr th {\n",
              "        vertical-align: top;\n",
              "    }\n",
              "\n",
              "    .dataframe thead th {\n",
              "        text-align: right;\n",
              "    }\n",
              "</style>\n",
              "<table border=\"1\" class=\"dataframe\">\n",
              "  <thead>\n",
              "    <tr style=\"text-align: right;\">\n",
              "      <th></th>\n",
              "      <th>Player</th>\n",
              "      <th>Span</th>\n",
              "      <th>Matches</th>\n",
              "      <th>Inns</th>\n",
              "      <th>Not_Out</th>\n",
              "      <th>Runs</th>\n",
              "      <th>Highest Score</th>\n",
              "      <th>Average</th>\n",
              "      <th>Balls_Faced</th>\n",
              "      <th>Strike_Rate</th>\n",
              "      <th>100</th>\n",
              "      <th>50</th>\n",
              "      <th>0</th>\n",
              "      <th>4s</th>\n",
              "      <th>6s</th>\n",
              "    </tr>\n",
              "  </thead>\n",
              "  <tbody>\n",
              "  </tbody>\n",
              "</table>\n",
              "</div>"
            ],
            "text/plain": [
              "Empty DataFrame\n",
              "Columns: [Player, Span, Matches, Inns, Not_Out, Runs, Highest Score, Average, Balls_Faced, Strike_Rate, 100, 50, 0, 4s, 6s]\n",
              "Index: []"
            ]
          },
          "execution_count": 9,
          "metadata": {},
          "output_type": "execute_result"
        }
      ],
      "source": [
        "df[df['Player'].duplicated()==1]"
      ]
    },
    {
      "cell_type": "code",
      "execution_count": 10,
      "metadata": {
        "colab": {
          "base_uri": "https://localhost:8080/"
        },
        "id": "n40uSHrkj7FQ",
        "outputId": "8115d685-ba1c-4f5f-dc8a-867d8e692715"
      },
      "outputs": [
        {
          "name": "stdout",
          "output_type": "stream",
          "text": [
            "Index(['Player', 'Span', 'Matches', 'Inns', 'Not_Out', 'Runs', 'Highest Score',\n",
            "       'Average', 'Balls_Faced', 'Strike_Rate', '100', '50', '0', '4s', '6s'],\n",
            "      dtype='object')\n"
          ]
        }
      ],
      "source": [
        "print(df.columns)\n"
      ]
    },
    {
      "cell_type": "code",
      "execution_count": 11,
      "metadata": {
        "id": "03Daohwti2GD"
      },
      "outputs": [],
      "source": [
        "# Splitting up span into start and end date\n",
        "df['Span'] = df['Span'].fillna('')  # Fill None/NaN values with an empty string\n",
        "df['Start_Year'] = df['Span'].str.split('-').str[0]\n",
        "df['End_Year'] = df['Span'].str.split('-').str[1]"
      ]
    },
    {
      "cell_type": "code",
      "execution_count": 12,
      "metadata": {
        "id": "Lfb26JpJk4mi"
      },
      "outputs": [],
      "source": [
        "df.drop(['Span'],axis=1,inplace=True)"
      ]
    },
    {
      "cell_type": "code",
      "execution_count": 13,
      "metadata": {
        "colab": {
          "base_uri": "https://localhost:8080/",
          "height": 417
        },
        "id": "FDNmdzUNlDVd",
        "outputId": "8e829c3c-d454-4c3a-aec6-da791a9856a3"
      },
      "outputs": [
        {
          "data": {
            "text/html": [
              "<div>\n",
              "<style scoped>\n",
              "    .dataframe tbody tr th:only-of-type {\n",
              "        vertical-align: middle;\n",
              "    }\n",
              "\n",
              "    .dataframe tbody tr th {\n",
              "        vertical-align: top;\n",
              "    }\n",
              "\n",
              "    .dataframe thead th {\n",
              "        text-align: right;\n",
              "    }\n",
              "</style>\n",
              "<table border=\"1\" class=\"dataframe\">\n",
              "  <thead>\n",
              "    <tr style=\"text-align: right;\">\n",
              "      <th></th>\n",
              "      <th>Player</th>\n",
              "      <th>Matches</th>\n",
              "      <th>Inns</th>\n",
              "      <th>Not_Out</th>\n",
              "      <th>Runs</th>\n",
              "      <th>Highest Score</th>\n",
              "      <th>Average</th>\n",
              "      <th>Balls_Faced</th>\n",
              "      <th>Strike_Rate</th>\n",
              "      <th>100</th>\n",
              "      <th>50</th>\n",
              "      <th>0</th>\n",
              "      <th>4s</th>\n",
              "      <th>6s</th>\n",
              "      <th>Start_Year</th>\n",
              "      <th>End_Year</th>\n",
              "      <th>Country</th>\n",
              "    </tr>\n",
              "  </thead>\n",
              "  <tbody>\n",
              "    <tr>\n",
              "      <th>0</th>\n",
              "      <td>DG Bradman (AUS)</td>\n",
              "      <td>52</td>\n",
              "      <td>80</td>\n",
              "      <td>10</td>\n",
              "      <td>6996</td>\n",
              "      <td>334</td>\n",
              "      <td>99.94</td>\n",
              "      <td>9800+</td>\n",
              "      <td>58.60</td>\n",
              "      <td>29</td>\n",
              "      <td>13</td>\n",
              "      <td>7</td>\n",
              "      <td>626</td>\n",
              "      <td>6</td>\n",
              "      <td>1928</td>\n",
              "      <td>1948</td>\n",
              "      <td>AUS</td>\n",
              "    </tr>\n",
              "    <tr>\n",
              "      <th>1</th>\n",
              "      <td>YBK Jaiswal (IND)</td>\n",
              "      <td>11</td>\n",
              "      <td>20</td>\n",
              "      <td>1</td>\n",
              "      <td>1217</td>\n",
              "      <td>214*</td>\n",
              "      <td>64.05</td>\n",
              "      <td>1698</td>\n",
              "      <td>71.67</td>\n",
              "      <td>3</td>\n",
              "      <td>7</td>\n",
              "      <td>1</td>\n",
              "      <td>139</td>\n",
              "      <td>32</td>\n",
              "      <td>2023</td>\n",
              "      <td>2024</td>\n",
              "      <td>IND</td>\n",
              "    </tr>\n",
              "    <tr>\n",
              "      <th>2</th>\n",
              "      <td>AC Voges (AUS)</td>\n",
              "      <td>20</td>\n",
              "      <td>31</td>\n",
              "      <td>7</td>\n",
              "      <td>1485</td>\n",
              "      <td>269*</td>\n",
              "      <td>61.87</td>\n",
              "      <td>2667</td>\n",
              "      <td>55.68</td>\n",
              "      <td>5</td>\n",
              "      <td>4</td>\n",
              "      <td>2</td>\n",
              "      <td>186</td>\n",
              "      <td>5</td>\n",
              "      <td>2015</td>\n",
              "      <td>2016</td>\n",
              "      <td>AUS</td>\n",
              "    </tr>\n",
              "    <tr>\n",
              "      <th>3</th>\n",
              "      <td>RG Pollock (SA)</td>\n",
              "      <td>23</td>\n",
              "      <td>41</td>\n",
              "      <td>4</td>\n",
              "      <td>2256</td>\n",
              "      <td>274</td>\n",
              "      <td>60.97</td>\n",
              "      <td>1707+</td>\n",
              "      <td>54.48</td>\n",
              "      <td>7</td>\n",
              "      <td>11</td>\n",
              "      <td>1</td>\n",
              "      <td>246</td>\n",
              "      <td>11</td>\n",
              "      <td>1963</td>\n",
              "      <td>1970</td>\n",
              "      <td>SA</td>\n",
              "    </tr>\n",
              "    <tr>\n",
              "      <th>4</th>\n",
              "      <td>GA Headley (WI)</td>\n",
              "      <td>22</td>\n",
              "      <td>40</td>\n",
              "      <td>4</td>\n",
              "      <td>2190</td>\n",
              "      <td>270*</td>\n",
              "      <td>60.83</td>\n",
              "      <td>416+</td>\n",
              "      <td>56.00</td>\n",
              "      <td>10</td>\n",
              "      <td>5</td>\n",
              "      <td>2</td>\n",
              "      <td>104</td>\n",
              "      <td>1</td>\n",
              "      <td>1930</td>\n",
              "      <td>1954</td>\n",
              "      <td>WI</td>\n",
              "    </tr>\n",
              "  </tbody>\n",
              "</table>\n",
              "</div>"
            ],
            "text/plain": [
              "              Player  Matches  Inns  Not_Out  Runs Highest Score  Average  \\\n",
              "0   DG Bradman (AUS)       52    80       10  6996           334    99.94   \n",
              "1  YBK Jaiswal (IND)       11    20        1  1217          214*    64.05   \n",
              "2     AC Voges (AUS)       20    31        7  1485          269*    61.87   \n",
              "3    RG Pollock (SA)       23    41        4  2256           274    60.97   \n",
              "4    GA Headley (WI)       22    40        4  2190          270*    60.83   \n",
              "\n",
              "  Balls_Faced  Strike_Rate  100  50  0   4s  6s Start_Year End_Year Country  \n",
              "0       9800+        58.60   29  13  7  626   6       1928     1948     AUS  \n",
              "1        1698        71.67    3   7  1  139  32       2023     2024     IND  \n",
              "2        2667        55.68    5   4  2  186   5       2015     2016     AUS  \n",
              "3       1707+        54.48    7  11  1  246  11       1963     1970      SA  \n",
              "4        416+        56.00   10   5  2  104   1       1930     1954      WI  "
            ]
          },
          "execution_count": 13,
          "metadata": {},
          "output_type": "execute_result"
        }
      ],
      "source": [
        "df['Country'] = df['Player'].str.split('(').str[1].str.replace(')','')\n",
        "\n",
        "df.head()"
      ]
    },
    {
      "cell_type": "code",
      "execution_count": 14,
      "metadata": {
        "colab": {
          "base_uri": "https://localhost:8080/",
          "height": 458
        },
        "id": "frq2xS_6laUd",
        "outputId": "f88f67b2-ff6c-41be-c231-b348c8951f0a"
      },
      "outputs": [
        {
          "data": {
            "text/plain": [
              "0      DG Bradman \n",
              "1     YBK Jaiswal \n",
              "2        AC Voges \n",
              "3      RG Pollock \n",
              "4      GA Headley \n",
              "          ...     \n",
              "58     KD Walters \n",
              "59       GC Smith \n",
              "60    WH Ponsford \n",
              "61      SJ McCabe \n",
              "62     DR Jardine \n",
              "Name: Player, Length: 63, dtype: object"
            ]
          },
          "execution_count": 14,
          "metadata": {},
          "output_type": "execute_result"
        }
      ],
      "source": [
        "df['Player'] = df['Player'].str.split('(').str[0]\n",
        "df['Player']"
      ]
    },
    {
      "cell_type": "code",
      "execution_count": 15,
      "metadata": {
        "colab": {
          "base_uri": "https://localhost:8080/",
          "height": 617
        },
        "id": "GXP8dSjLl5vI",
        "outputId": "f1f2f7a1-1fec-4f9f-8b27-cbb41e1398f2"
      },
      "outputs": [
        {
          "data": {
            "text/plain": [
              "Player            object\n",
              "Matches            int64\n",
              "Inns               int64\n",
              "Not_Out            int64\n",
              "Runs               int64\n",
              "Highest Score     object\n",
              "Average          float64\n",
              "Balls_Faced       object\n",
              "Strike_Rate      float64\n",
              "100                int64\n",
              "50                 int64\n",
              "0                  int64\n",
              "4s                 int64\n",
              "6s                 int64\n",
              "Start_Year        object\n",
              "End_Year          object\n",
              "Country           object\n",
              "dtype: object"
            ]
          },
          "execution_count": 15,
          "metadata": {},
          "output_type": "execute_result"
        }
      ],
      "source": [
        "df.dtypes"
      ]
    },
    {
      "cell_type": "code",
      "execution_count": 16,
      "metadata": {
        "colab": {
          "base_uri": "https://localhost:8080/",
          "height": 617
        },
        "id": "GCMsKdW5mJPu",
        "outputId": "e85e4d33-841f-414b-cece-85602004dbdb"
      },
      "outputs": [
        {
          "data": {
            "text/plain": [
              "Player            object\n",
              "Matches            int64\n",
              "Inns               int64\n",
              "Not_Out            int64\n",
              "Runs               int64\n",
              "Highest Score     object\n",
              "Average          float64\n",
              "Balls_Faced       object\n",
              "Strike_Rate      float64\n",
              "100                int64\n",
              "50                 int64\n",
              "0                  int64\n",
              "4s                 int64\n",
              "6s                 int64\n",
              "Start_Year         int32\n",
              "End_Year           int32\n",
              "Country           object\n",
              "dtype: object"
            ]
          },
          "execution_count": 16,
          "metadata": {},
          "output_type": "execute_result"
        }
      ],
      "source": [
        "df['Start_Year'] = df['Start_Year'].astype('int32')\n",
        "df['End_Year'] = df['End_Year'].astype('int32')\n",
        "df.dtypes"
      ]
    },
    {
      "cell_type": "code",
      "execution_count": 17,
      "metadata": {
        "colab": {
          "base_uri": "https://localhost:8080/",
          "height": 617
        },
        "id": "xES4YebimM3b",
        "outputId": "69b3942d-7ed1-4741-d497-79b630518b6f"
      },
      "outputs": [
        {
          "data": {
            "text/plain": [
              "Player           string[python]\n",
              "Matches                   int64\n",
              "Inns                      int64\n",
              "Not_Out                   int64\n",
              "Runs                      int64\n",
              "Highest Score            object\n",
              "Average                 float64\n",
              "Balls_Faced              object\n",
              "Strike_Rate             float64\n",
              "100                       int64\n",
              "50                        int64\n",
              "0                         int64\n",
              "4s                        int64\n",
              "6s                        int64\n",
              "Start_Year                int32\n",
              "End_Year                  int32\n",
              "Country          string[python]\n",
              "dtype: object"
            ]
          },
          "execution_count": 17,
          "metadata": {},
          "output_type": "execute_result"
        }
      ],
      "source": [
        "df['Player'] = df['Player'].astype('string')\n",
        "df['Country'] = df['Country'].astype('string')\n",
        "df.dtypes"
      ]
    },
    {
      "cell_type": "code",
      "execution_count": 18,
      "metadata": {
        "colab": {
          "base_uri": "https://localhost:8080/",
          "height": 617
        },
        "id": "UteGckFrmjJY",
        "outputId": "d607c694-92a2-43f5-ca44-1a8c09e26e5f"
      },
      "outputs": [
        {
          "data": {
            "text/plain": [
              "Player           string[python]\n",
              "Matches                   int64\n",
              "Inns                      int64\n",
              "Not_Out                   int64\n",
              "Runs                      int64\n",
              "Highest Score            object\n",
              "Average                 float64\n",
              "Balls_Faced              object\n",
              "Strike_Rate             float32\n",
              "100                       int64\n",
              "50                        int64\n",
              "0                         int64\n",
              "4s                        int64\n",
              "6s                        int64\n",
              "Start_Year                int32\n",
              "End_Year                  int32\n",
              "Country          string[python]\n",
              "dtype: object"
            ]
          },
          "execution_count": 18,
          "metadata": {},
          "output_type": "execute_result"
        }
      ],
      "source": [
        "df['Strike_Rate'] = df['Strike_Rate'].astype('float32')\n",
        "df.dtypes"
      ]
    },
    {
      "cell_type": "code",
      "execution_count": 19,
      "metadata": {
        "id": "Ei93LW-nnDIc"
      },
      "outputs": [],
      "source": [
        "df['Highest Score'] = df['Highest Score'].str.split('*').str[0]"
      ]
    },
    {
      "cell_type": "code",
      "execution_count": 20,
      "metadata": {
        "id": "6IgFJfKwnP_t"
      },
      "outputs": [],
      "source": [
        "df['Highest Score'] = df['Highest Score'].astype(int)"
      ]
    },
    {
      "cell_type": "code",
      "execution_count": 21,
      "metadata": {
        "colab": {
          "base_uri": "https://localhost:8080/",
          "height": 321
        },
        "id": "dW211mCpnagH",
        "outputId": "5e1f658a-3f16-49ad-c32f-b7c96a19cee0"
      },
      "outputs": [],
      "source": [
        "df['Balls_Faced'] = df['Balls_Faced'].str.split('+').str[0]\n"
      ]
    },
    {
      "cell_type": "code",
      "execution_count": 22,
      "metadata": {
        "colab": {
          "base_uri": "https://localhost:8080/"
        },
        "id": "5N8aQ9a1oFEa",
        "outputId": "565b4bc1-8f17-419e-a0ca-44016c1b1e53"
      },
      "outputs": [
        {
          "data": {
            "text/plain": [
              "np.int64(3)"
            ]
          },
          "execution_count": 22,
          "metadata": {},
          "output_type": "execute_result"
        }
      ],
      "source": [
        "df['Balls_Faced'].isnull().sum()"
      ]
    },
    {
      "cell_type": "code",
      "execution_count": 23,
      "metadata": {
        "id": "JTbOBr5KoMUY"
      },
      "outputs": [],
      "source": [
        "df['Balls_Faced'] = df['Balls_Faced'].fillna(0)"
      ]
    },
    {
      "cell_type": "code",
      "execution_count": 24,
      "metadata": {
        "id": "qeXdyyFgoRVq"
      },
      "outputs": [],
      "source": [
        "df['Balls_Faced'] = df['Balls_Faced'].astype(int)"
      ]
    }
  ],
  "metadata": {
    "colab": {
      "provenance": []
    },
    "kernelspec": {
      "display_name": "Python 3",
      "name": "python3"
    },
    "language_info": {
      "codemirror_mode": {
        "name": "ipython",
        "version": 3
      },
      "file_extension": ".py",
      "mimetype": "text/x-python",
      "name": "python",
      "nbconvert_exporter": "python",
      "pygments_lexer": "ipython3",
      "version": "3.12.4"
    }
  },
  "nbformat": 4,
  "nbformat_minor": 0
}
